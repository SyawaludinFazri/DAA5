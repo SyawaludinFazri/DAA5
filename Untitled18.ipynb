{
  "nbformat": 4,
  "nbformat_minor": 0,
  "metadata": {
    "colab": {
      "name": "Untitled18.ipynb",
      "provenance": [],
      "collapsed_sections": []
    },
    "kernelspec": {
      "name": "python3",
      "display_name": "Python 3"
    },
    "language_info": {
      "name": "python"
    }
  },
  "cells": [
    {
      "cell_type": "code",
      "metadata": {
        "id": "z8a-aYf7jFDZ"
      },
      "source": [
        "# Hitung Inversi\n",
        "\n",
        "def countInversion(arr):\n",
        "  result=0\n",
        "  for i in range(len(arr)):\n",
        "    for j in range(i+1,len(arr)):\n",
        "        if arr[i]>arr[j]:\n",
        "            result+=1\n",
        "    return result\n",
        "  "
      ],
      "execution_count": 1,
      "outputs": []
    },
    {
      "cell_type": "code",
      "metadata": {
        "id": "qsHMrQzLlZqJ"
      },
      "source": [
        "arr=[3, 2, 1]"
      ],
      "execution_count": 16,
      "outputs": []
    },
    {
      "cell_type": "code",
      "metadata": {
        "colab": {
          "base_uri": "https://localhost:8080/"
        },
        "id": "fdy4kkOEmBZq",
        "outputId": "ddf1224a-8fe7-4d1b-a30e-a12f22a4bb95"
      },
      "source": [
        "result=countInversion(arr)\n",
        "print(result)"
      ],
      "execution_count": 17,
      "outputs": [
        {
          "output_type": "stream",
          "name": "stdout",
          "text": [
            "2\n"
          ]
        }
      ]
    },
    {
      "cell_type": "code",
      "metadata": {
        "id": "_JSY5RmCn9mi"
      },
      "source": [
        "# Hitung inversi dengan divide dan conguer\n",
        "\n",
        "def countInversion(arr):\n",
        "    icount = 0\n",
        "    if len(arr)<=1:\n",
        "        return icount\n",
        "    \n",
        "    mid = len(arr)//2\n",
        "    left = arr[:mid]\n",
        "    right = arr[mid:]\n",
        "    icount += countInversion(left)\n",
        "    icount += countInversion(right)\n",
        "    i=j=k=0\n",
        "    \n",
        "    #print(left)\n",
        "    #print(right)\n",
        "    while i<len(left) and j<len(right):\n",
        "        if left[i] < right[j]:\n",
        "            arr[k] = left[i]\n",
        "            i+=1\n",
        "        else:\n",
        "            #print(Left[i],right[j])\n",
        "            arr[k] = right[j]\n",
        "            j+=1\n",
        "            icount+=(mid-i)\n",
        "        k+=1\n",
        "        \n",
        "    while i<len(left):\n",
        "        arr[k] = left[i]\n",
        "        i+=1\n",
        "        k+=1\n",
        "        \n",
        "    while j<len(right):\n",
        "        arr[k] = right[j]\n",
        "        j+=1\n",
        "        k+=1\n",
        "        \n",
        "    return icount"
      ],
      "execution_count": 26,
      "outputs": []
    },
    {
      "cell_type": "code",
      "metadata": {
        "id": "BbwniOsHsF96"
      },
      "source": [
        "arr=[1, 20, 6, 4, 5]"
      ],
      "execution_count": 27,
      "outputs": []
    },
    {
      "cell_type": "code",
      "metadata": {
        "colab": {
          "base_uri": "https://localhost:8080/"
        },
        "id": "C5_IcAnRrWSy",
        "outputId": "298acd8a-5660-40d4-bc54-0d3bc4cd670f"
      },
      "source": [
        "result = countInversion(arr)\n",
        "print(result)"
      ],
      "execution_count": 28,
      "outputs": [
        {
          "output_type": "stream",
          "name": "stdout",
          "text": [
            "5\n"
          ]
        }
      ]
    },
    {
      "cell_type": "code",
      "metadata": {
        "id": "4C3xiN7RuZMw"
      },
      "source": [
        "# Tanpa divide dan conguer\n",
        "\n",
        "def maxSubsum(arr):\n",
        "    max_so_far=0\n",
        "    max_ending_here=0\n",
        "    for i in range(len(arr)):\n",
        "        max_ending_here+=arr[i]\n",
        "        if max_ending_here>max_so_far:\n",
        "          max_so_far=max_ending_here\n",
        "        if max_ending_here<0:\n",
        "            max_ending_here=0\n",
        "    return max_so_far"
      ],
      "execution_count": 34,
      "outputs": []
    },
    {
      "cell_type": "code",
      "metadata": {
        "colab": {
          "base_uri": "https://localhost:8080/"
        },
        "id": "61Y6tI1mvlst",
        "outputId": "78b4f6ac-0631-487f-a390-1ebe9b78563c"
      },
      "source": [
        "arr=[-2, -5, 6, -2, -3, 1, 5, -6]\n",
        "result=maxSubsum(arr)\n",
        "print(result)"
      ],
      "execution_count": 35,
      "outputs": [
        {
          "output_type": "stream",
          "name": "stdout",
          "text": [
            "7\n"
          ]
        }
      ]
    },
    {
      "cell_type": "code",
      "metadata": {
        "id": "CzKGSE980soR"
      },
      "source": [
        "# menggunakan divede and conquer\n",
        "\n",
        "def maxCrossingSum(arr,low,mid,high):\n",
        "    result=0; leftSum=float('-infinity')\n",
        "    for i in range(mid,low-1,-1):\n",
        "        result+=arr[i]\n",
        "        if result>leftSum:\n",
        "            leftSum=result\n",
        "    result=0; rightSum=float('-infinity')\n",
        "    for i in range(mid+1,high+1):\n",
        "        result+=arr[i]\n",
        "        if result>rightSum:\n",
        "            rightSum=result\n",
        "    return leftSum+rightSum\n",
        "\n",
        "def maxSum(arr, low, high):\n",
        "    if low==high:\n",
        "        return arr[low]\n",
        "    mid=(low+high)//2\n",
        "    return max(maxSum(arr,low,mid), maxSum(arr,mid+1,high),maxCrossingSum(arr,low,mid,high))"
      ],
      "execution_count": 39,
      "outputs": []
    },
    {
      "cell_type": "code",
      "metadata": {
        "colab": {
          "base_uri": "https://localhost:8080/"
        },
        "id": "jYle7qmx0ueR",
        "outputId": "84e92f6c-aee3-4c64-e5a6-47b385c2dc5a"
      },
      "source": [
        "arr=[-2, -5, 6, -2, -3, 1, 5, -6]\n",
        "result=maxSum(arr,0,len(arr)-1)\n",
        "print(result)"
      ],
      "execution_count": 40,
      "outputs": [
        {
          "output_type": "stream",
          "name": "stdout",
          "text": [
            "7\n"
          ]
        }
      ]
    },
    {
      "cell_type": "code",
      "metadata": {
        "id": "px8A8-qq5NzW"
      },
      "source": [
        "# Dengan divide dan conquer\n",
        "\n",
        "def commonPrefix(str1, str2):\n",
        "    n1 = len(str1); n2 = len(str2)\n",
        "    i,j = 0,0\n",
        "    s = \"\"\n",
        "    \n",
        "    while i < n1 and j < n2:\n",
        "        if str1[i] == str2[j]:\n",
        "            s += str1[i]\n",
        "            i += 1\n",
        "            j += 1\n",
        "        else:\n",
        "            break\n",
        "            \n",
        "    return s"
      ],
      "execution_count": 46,
      "outputs": []
    },
    {
      "cell_type": "code",
      "metadata": {
        "id": "O-7XGQXKLWLG"
      },
      "source": [
        "def longestCommonPrefix(arr,low,high):\n",
        "    if low==high:\n",
        "        return arr[low]\n",
        "    mid=(low+high)//2\n",
        "    result1=longestCommonPrefix(arr,low,mid)\n",
        "    result2=longestCommonPrefix(arr,mid+1,high)\n",
        "    result=commonPrefix(result1,result2)\n",
        "    return result"
      ],
      "execution_count": 43,
      "outputs": []
    },
    {
      "cell_type": "code",
      "metadata": {
        "colab": {
          "base_uri": "https://localhost:8080/"
        },
        "id": "igm47ODoMLSK",
        "outputId": "b47ae997-3eb9-486d-fb61-bc1cad6132b9"
      },
      "source": [
        "arr = ['geeksforgeeks', 'geeks', 'geek', 'geezer']\n",
        "result = longestCommonPrefix(arr,0,len(arr)-1)\n",
        "print(result)"
      ],
      "execution_count": 47,
      "outputs": [
        {
          "output_type": "stream",
          "name": "stdout",
          "text": [
            "gee\n"
          ]
        }
      ]
    },
    {
      "cell_type": "code",
      "metadata": {
        "colab": {
          "base_uri": "https://localhost:8080/"
        },
        "id": "rZs0i8fZM3jE",
        "outputId": "8eddef19-653c-43fa-a3e7-bfa767c55a21"
      },
      "source": [
        "arr = [\"apple\", \"ape\", \"april\"]\n",
        "result = longestCommonPrefix(arr,0,len(arr)-1)\n",
        "print(result)"
      ],
      "execution_count": 48,
      "outputs": [
        {
          "output_type": "stream",
          "name": "stdout",
          "text": [
            "ap\n"
          ]
        }
      ]
    },
    {
      "cell_type": "code",
      "metadata": {
        "id": "FHrxKc5GO3NZ"
      },
      "source": [
        " #median dari dua array dengan divide dan conquer\n",
        "\n",
        "def medianOfArray(arr1,arr2,n):\n",
        "    m1= -1 #first number\n",
        "    m2= -1 #second number\n",
        "    count=0\n",
        "    i=j=0\n",
        "    while count<n+1:\n",
        "        count+=1\n",
        "        if i==n: # i==5 index error if arr1[i]<arr2[j] is checked\n",
        "            m1=m2\n",
        "            m2=arr2[0]\n",
        "            break\n",
        "        if j==n:\n",
        "            m1=m2\n",
        "            m2=arr1[0]\n",
        "            break\n",
        "        if arr1[i]<arr2[j]:\n",
        "            m1=m2\n",
        "            m2=arr1[i]\n",
        "            i+=1\n",
        "        else:\n",
        "            m1=m2\n",
        "            m2=arr2[j]\n",
        "            j+=1\n",
        "    return (m1+m2)//2"
      ],
      "execution_count": 50,
      "outputs": []
    },
    {
      "cell_type": "code",
      "metadata": {
        "id": "Do7kvD6APIc1"
      },
      "source": [
        "arr1=[1,12,15,26,38]\n",
        "arr2=[2,13,17,30,45]"
      ],
      "execution_count": 53,
      "outputs": []
    },
    {
      "cell_type": "code",
      "metadata": {
        "colab": {
          "base_uri": "https://localhost:8080/"
        },
        "id": "J-t3_cWRPLx4",
        "outputId": "783a0bd1-140d-4a90-8099-ddc779ce0d02"
      },
      "source": [
        "print(medianOfArray(arr1,arr2,len(arr1)))"
      ],
      "execution_count": 54,
      "outputs": [
        {
          "output_type": "stream",
          "name": "stdout",
          "text": [
            "16\n"
          ]
        }
      ]
    },
    {
      "cell_type": "code",
      "metadata": {
        "id": "XVTTCmCNSBkP"
      },
      "source": [
        "# Flooe in sorted array\n",
        "\n",
        "def floorSorted(arr, low, high, x):\n",
        "    #print(low,high)\n",
        "    if low>high:\n",
        "        return -1\n",
        "    \n",
        "    if arr[low]>x:\n",
        "        #print(\"inside\")\n",
        "        return -1\n",
        "    \n",
        "    if arr[high]<=x:\n",
        "        return arr[high]\n",
        "    \n",
        "    mid=(low+high)//2\n",
        "    \n",
        "    if arr[mid]==x:\n",
        "        return arr[mid]\n",
        "    \n",
        "    if mid>0 and x>=arr[mid-1] and arr[mid]>x:\n",
        "        return arr[mid-1]\n",
        "    \n",
        "    if mid<high and x<arr[mid+1] and x>=arr[mid]:\n",
        "        return arr[mid]\n",
        "    \n",
        "    if x>arr[mid]:\n",
        "        return floorSorted(arr,mid+1,high,x)\n",
        "    else:\n",
        "        return floorSorted(arr,low,mid-1,x)"
      ],
      "execution_count": 55,
      "outputs": []
    },
    {
      "cell_type": "code",
      "metadata": {
        "id": "YIx7dICSSTFH"
      },
      "source": [
        "arr=[1,2,8,10,12,14,19]"
      ],
      "execution_count": 56,
      "outputs": []
    },
    {
      "cell_type": "code",
      "metadata": {
        "id": "HCgDZy7dSW1E"
      },
      "source": [
        "x=5"
      ],
      "execution_count": 57,
      "outputs": []
    },
    {
      "cell_type": "code",
      "metadata": {
        "colab": {
          "base_uri": "https://localhost:8080/"
        },
        "id": "co9uDwQSSfNG",
        "outputId": "3f48942f-6feb-4519-c4bf-d2c5922d8183"
      },
      "source": [
        "print(floorSorted(arr,0,len(arr)-1,x))"
      ],
      "execution_count": 58,
      "outputs": [
        {
          "output_type": "stream",
          "name": "stdout",
          "text": [
            "2\n"
          ]
        }
      ]
    },
    {
      "cell_type": "code",
      "metadata": {
        "id": "wBulRBcOXdEn"
      },
      "source": [
        "#mencari nilai terdekat dengan metode divede dan conquer\n",
        "\n",
        "def closestNumber(arr,low,high,x):\n",
        "    if low>high:\n",
        "        return -1\n",
        "    if arr[high]<=x:\n",
        "        return arr[high]\n",
        "    if arr[low]>=x:\n",
        "        return arr[low]\n",
        "    mid=(low+high)//2\n",
        "    if arr[mid]==x:\n",
        "        return arr[mid]\n",
        "    abs_mid=abs(arr[mid]-x)\n",
        "    if mid>0:\n",
        "        abs_left=abs(arr[mid-1]-x)\n",
        "        if abs_left<abs_mid:\n",
        "            return closestNumber(arr,low,mid-1,x)\n",
        "    if mid<high:\n",
        "        abs_right=abs(arr[mid+1]-x)\n",
        "        if abs_right<abs_mid:\n",
        "            return closestNumber(arr,mid+1,high,x)\n",
        "        #print('after')\n",
        "        return arr[mid]"
      ],
      "execution_count": 59,
      "outputs": []
    },
    {
      "cell_type": "code",
      "metadata": {
        "id": "Nxulf3lrXqu-"
      },
      "source": [
        "arr=[2,5,6,7,8,9]"
      ],
      "execution_count": 60,
      "outputs": []
    },
    {
      "cell_type": "code",
      "metadata": {
        "id": "rfeOCdmYXvPY"
      },
      "source": [
        "x=9"
      ],
      "execution_count": 61,
      "outputs": []
    },
    {
      "cell_type": "code",
      "metadata": {
        "colab": {
          "base_uri": "https://localhost:8080/"
        },
        "id": "se1_5umbXzG1",
        "outputId": "452e2169-31fb-4b9c-dfcf-70d626bfe0b5"
      },
      "source": [
        "print(closestNumber(arr,0,len(arr)-1,x))"
      ],
      "execution_count": 62,
      "outputs": [
        {
          "output_type": "stream",
          "name": "stdout",
          "text": [
            "9\n"
          ]
        }
      ]
    },
    {
      "cell_type": "code",
      "metadata": {
        "id": "I-qcQfNbbjh4"
      },
      "source": [
        "# mencari Fixed Point dengan metode divide dan conquer\n",
        "\n",
        "def fixedPoint(arr,low,high):\n",
        "    if low>high:\n",
        "        return -1\n",
        "    if arr[high]==high:\n",
        "        return arr[high]\n",
        "    if arr[low]==low:\n",
        "        return arr[low]\n",
        "    mid=(low+high)//2\n",
        "    if arr[mid]==mid:\n",
        "        return arr[mid]\n",
        "    if mid>arr[mid]:\n",
        "        return fixedPoint(arr,mid+1,high)\n",
        "    else:\n",
        "        return fixedPoint(arr,low,mid-1)"
      ],
      "execution_count": 63,
      "outputs": []
    },
    {
      "cell_type": "code",
      "metadata": {
        "id": "6ReqbUycbsp8"
      },
      "source": [
        "arr=[9,1,4,5,2]"
      ],
      "execution_count": null,
      "outputs": []
    },
    {
      "cell_type": "code",
      "metadata": {
        "colab": {
          "base_uri": "https://localhost:8080/"
        },
        "id": "tFrie-04bxIS",
        "outputId": "db67bfe0-4720-4c3a-d713-c4ad6aa99ab1"
      },
      "source": [
        "print(fixedPoint(arr,0,len(arr)-1))"
      ],
      "execution_count": 64,
      "outputs": [
        {
          "output_type": "stream",
          "name": "stdout",
          "text": [
            "-1\n"
          ]
        }
      ]
    }
  ]
}